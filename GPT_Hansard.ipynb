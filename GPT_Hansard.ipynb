{
 "cells": [
  {
   "cell_type": "code",
   "execution_count": null,
   "id": "5577dc64-3766-47bd-a0e5-911155e3be65",
   "metadata": {},
   "outputs": [],
   "source": [
    "import os\n",
    "import openai\n",
    "import PyPDF2\n",
    "from langchain.chains.summarize import load_summarize_chain\n",
    "from langchain.document_loaders import PyPDFLoader,PyPDFDirectoryLoader\n",
    "from langchain import OpenAI, PromptTemplate\n",
    "import glob"
   ]
  },
  {
   "cell_type": "code",
   "execution_count": null,
   "id": "30bd0a78-d84c-4ce7-8a79-7d632d69a935",
   "metadata": {},
   "outputs": [],
   "source": [
    "# Set up OpenAI API credentials\n",
    "os.environ[\"OPENAI_API_KEY\"] = \"your OpenAI key\"\n"
   ]
  },
  {
   "cell_type": "code",
   "execution_count": null,
   "id": "df3e426d-74e9-4e4e-9b97-b3ba71cd7fca",
   "metadata": {},
   "outputs": [],
   "source": [
    "llm = OpenAI(temperature=0.2)\n",
    "def pdf_summaries(pdfs_folder):\n",
    "    summaries = []\n",
    "    for pdf_file in glob.glob(pdfs_folder + \"/*.pdf\"):\n",
    "        loader = PyPDFLoader(pdf_file)\n",
    "        docs = loader.load_and_split()\n",
    "        chain = load_summarize_chain(llm, chain_type=\"map_reduce\")\n",
    "        summary = chain.run(docs)\n",
    "        print(\"Summary for: \", pdf_file)\n",
    "        print(summary)\n",
    "        print(\"\\n\")\n",
    "        summaries.append(summary)\n",
    "    \n",
    "    return summaries"
   ]
  },
  {
   "cell_type": "code",
   "execution_count": null,
   "id": "98192c48-96db-4953-827d-be2661ded696",
   "metadata": {},
   "outputs": [],
   "source": [
    "summaries = pdf_summaries(\"./2018\")"
   ]
  },
  {
   "cell_type": "code",
   "execution_count": null,
   "id": "10a5f52e-17d2-453a-bfa8-522650ec8ca2",
   "metadata": {},
   "outputs": [],
   "source": [
    "##Querying multiple PDFs  \n",
    "\n",
    "from langchain.indexes import VectorstoreIndexCreator\n",
    "from langchain.document_loaders import PyPDFDirectoryLoader"
   ]
  },
  {
   "cell_type": "code",
   "execution_count": null,
   "id": "be986643-b3d4-44fe-a1a7-ba9d50550818",
   "metadata": {},
   "outputs": [],
   "source": [
    "#check whether the  PDF files have  valid  headers. Its fine to remove ones with readers that are not valid \n",
    "import os\n",
    "import glob\n",
    "\n",
    "folder_path = \"./pdfs/\"  # replace with the path to your folder\n",
    "\n",
    "# find all PDF files in the folder\n",
    "pdf_files = glob.glob(os.path.join(folder_path, \"*.pdf\"))\n",
    "\n",
    "# loop over each PDF file and check if it has an invalid header\n",
    "for pdf_file in pdf_files:\n",
    "    with open(pdf_file, \"rb\") as f:\n",
    "        header = f.read(4)\n",
    "        if header != b\"%PDF\":\n",
    "            print(f\"{pdf_file} has an invalid header: {header}\") #if nothing  is  printed then everything  is in order\n",
    "            # os.remove(pdf_file) #removes the  bad PDFs"
   ]
  },
  {
   "cell_type": "code",
   "execution_count": null,
   "id": "853e9edd-96d2-4b56-ac11-9031cd18c612",
   "metadata": {},
   "outputs": [],
   "source": [
    "# Python!\n",
    "loader = PyPDFDirectoryLoader(\"./2018/\") \n",
    "\n",
    "docs = loader.load()\n",
    "\n",
    "# Create the vector store index\n",
    "index = VectorstoreIndexCreator().from_loaders([loader])"
   ]
  },
  {
   "cell_type": "code",
   "execution_count": null,
   "id": "1e841752-3b64-475e-bc75-b3e2212dadd2",
   "metadata": {},
   "outputs": [],
   "source": [
    "query = \"How  may times is the name Raila Odinga mentioned in all documents?\"\n",
    "\n",
    "index.query(query)"
   ]
  },
  {
   "cell_type": "code",
   "execution_count": null,
   "id": "75179e12-beea-4eab-84c4-c93f20d088b2",
   "metadata": {},
   "outputs": [],
   "source": [
    "query1= \"What are the topics around  mentioning  Raila Odinga?\"\n",
    "\n",
    "index.query(query1)"
   ]
  },
  {
   "cell_type": "code",
   "execution_count": null,
   "id": "f8146866-e33d-4bd9-bd20-d2fbf430aa00",
   "metadata": {},
   "outputs": [],
   "source": [
    "query1 = \"Was there any discussion about finance?\"\n",
    "\n",
    "index.query(query1)"
   ]
  },
  {
   "cell_type": "code",
   "execution_count": null,
   "id": "404e95d8-3f8f-4580-9b05-9aea2737ad24",
   "metadata": {},
   "outputs": [],
   "source": [
    "query2 = \"Summarize the discussion around revenue raising measures in two paragraphs\"\n",
    "\n",
    "index.query(query2) "
   ]
  },
  {
   "cell_type": "code",
   "execution_count": null,
   "id": "589b52b7-dd86-4669-894f-608c4af6f17b",
   "metadata": {},
   "outputs": [],
   "source": [
    "query = \"What were  the pertinent questions that were raised about education in all documents?\"\n",
    "\n",
    "index.query(query)"
   ]
  }
 ],
 "metadata": {
  "kernelspec": {
   "display_name": "Python 3",
   "language": "python",
   "name": "python3"
  },
  "language_info": {
   "codemirror_mode": {
    "name": "ipython",
    "version": 3
   },
   "file_extension": ".py",
   "mimetype": "text/x-python",
   "name": "python",
   "nbconvert_exporter": "python",
   "pygments_lexer": "ipython3",
   "version": "3.8.16"
  }
 },
 "nbformat": 4,
 "nbformat_minor": 5
}
